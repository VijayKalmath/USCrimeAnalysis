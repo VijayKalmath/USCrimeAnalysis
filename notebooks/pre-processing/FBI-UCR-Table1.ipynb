{
 "cells": [
  {
   "cell_type": "markdown",
   "id": "a81b154b",
   "metadata": {},
   "source": [
    "### FBI UCR Data"
   ]
  },
  {
   "cell_type": "markdown",
   "id": "128de826",
   "metadata": {},
   "source": [
    "Data downloaded from : [FBI Hate Crime](https://ucr.fbi.gov/hate-crime)\n",
    "\n",
    "Raw Data Files Present in : raw_data/FBI-UCR "
   ]
  },
  {
   "cell_type": "code",
   "execution_count": 1,
   "id": "95f066b1",
   "metadata": {},
   "outputs": [],
   "source": [
    "Table1_location = \"raw_data/FBI-UCR/Table1/\""
   ]
  },
  {
   "cell_type": "code",
   "execution_count": 2,
   "id": "b13e0f88",
   "metadata": {},
   "outputs": [
    {
     "name": "stdout",
     "output_type": "stream",
     "text": [
      "total 656\r\n",
      "-rw-r--r--@ 1 vijaykalmath  staff  32256 Dec 11 17:57 2010.xls\r\n",
      "-rw-r--r--@ 1 vijaykalmath  staff  32768 Dec 11 17:57 2011.xls\r\n",
      "-rw-r--r--@ 1 vijaykalmath  staff  28672 Dec 11 17:56 2012.xls\r\n",
      "-rw-r--r--@ 1 vijaykalmath  staff  29696 Dec 11 17:56 2013.xls\r\n",
      "-rw-r--r--@ 1 vijaykalmath  staff  29696 Dec 11 17:56 2014.xls\r\n",
      "-rw-r--r--@ 1 vijaykalmath  staff  29696 Dec 11 17:56 2015.xls\r\n",
      "-rw-r--r--@ 1 vijaykalmath  staff  29696 Dec 11 17:56 2016.xls\r\n",
      "-rw-r--r--@ 1 vijaykalmath  staff  29696 Dec 11 17:56 2017.xls\r\n",
      "-rw-r--r--@ 1 vijaykalmath  staff  30208 Dec 11 17:56 2018.xls\r\n",
      "-rw-r--r--@ 1 vijaykalmath  staff  43008 Dec 11 17:55 2019.xls\r\n"
     ]
    }
   ],
   "source": [
    "!ls -l raw_data/FBI-UCR/Table1/"
   ]
  },
  {
   "cell_type": "code",
   "execution_count": 3,
   "id": "f5e79c77",
   "metadata": {},
   "outputs": [],
   "source": [
    "import pandas as pd \n",
    "import numpy as np "
   ]
  },
  {
   "cell_type": "code",
   "execution_count": 14,
   "id": "88d9b108",
   "metadata": {},
   "outputs": [],
   "source": [
    "def ParseExcel(Filename,skiprow_val = 3 ,skipfooter_val = 4):\n",
    "    return pd.read_excel(Filename,skiprows=skiprow_val,skipfooter = skipfooter_val)\n",
    "\n",
    "Table1_DF_2010 = ParseExcel(Table1_location + \"2010.xls\",2)\n",
    "Table1_DF_2010[\"Year\"] = 2010\n",
    "\n",
    "# Next Year 2011 \n",
    "Table1_DF_2011 = ParseExcel(Table1_location + \"2011.xls\")\n",
    "Table1_DF_2011[\"Year\"] = 2011 \n",
    "\n",
    "# Next Year 2012\n",
    "Table1_DF_2012 = ParseExcel(Table1_location + \"2012.xls\")\n",
    "Table1_DF_2012[\"Year\"] = 2012 \n",
    "\n",
    "# Next Year 2013\n",
    "Table1_DF_2013 = ParseExcel(Table1_location + \"2013.xls\",3,5)\n",
    "Table1_DF_2013[\"Year\"] = 2013 \n",
    "\n",
    "# Next Year 2014\n",
    "Table1_DF_2014 = ParseExcel(Table1_location + \"2014.xls\",3,5)\n",
    "Table1_DF_2014[\"Year\"] = 2014 \n",
    "\n",
    "# Next Year 2015\n",
    "Table1_DF_2015 = ParseExcel(Table1_location + \"2015.xls\",3,4)\n",
    "Table1_DF_2015[\"Year\"] = 2015 \n",
    "\n",
    "# Next Year 2016\n",
    "Table1_DF_2016 = ParseExcel(Table1_location + \"2016.xls\",3,4)\n",
    "Table1_DF_2016[\"Year\"] = 2016 \n",
    "\n",
    "# Next Year 2017\n",
    "Table1_DF_2017 = ParseExcel(Table1_location + \"2017.xls\",3,4)\n",
    "Table1_DF_2017[\"Year\"] = 2017\n",
    "\n",
    "# Next Year 2018\n",
    "Table1_DF_2018 = ParseExcel(Table1_location + \"2018.xls\",3,4)\n",
    "Table1_DF_2018[\"Year\"] = 2018\n",
    "\n",
    "# Next Year 2019\n",
    "Table1_DF_2019 = ParseExcel(Table1_location + \"2019.xls\",3,4)\n",
    "Table1_DF_2019[\"Year\"] = 2019"
   ]
  },
  {
   "cell_type": "code",
   "execution_count": 15,
   "id": "14b76c0d",
   "metadata": {},
   "outputs": [],
   "source": [
    "Table_list = [\n",
    "                Table1_DF_2010,\n",
    "                Table1_DF_2011,\n",
    "                Table1_DF_2012,\n",
    "                Table1_DF_2013,\n",
    "                Table1_DF_2014,\n",
    "                Table1_DF_2015,\n",
    "                Table1_DF_2016,\n",
    "                Table1_DF_2017,\n",
    "                Table1_DF_2018,\n",
    "                Table1_DF_2019\n",
    "            ]"
   ]
  },
  {
   "cell_type": "code",
   "execution_count": 16,
   "id": "759ea3a4",
   "metadata": {},
   "outputs": [],
   "source": [
    "FBI_UCR_TABLE1_FINALIZED = pd.concat(Table_list)"
   ]
  },
  {
   "cell_type": "code",
   "execution_count": 17,
   "id": "d05f5679",
   "metadata": {},
   "outputs": [],
   "source": [
    "FBI_UCR_TABLE1_FINALIZED\n",
    "FBI_UCR_TABLE1_FINALIZED = FBI_UCR_TABLE1_FINALIZED.loc[:,~FBI_UCR_TABLE1_FINALIZED.columns.str.startswith('Unnamed')]"
   ]
  },
  {
   "cell_type": "code",
   "execution_count": 18,
   "id": "03b997fb",
   "metadata": {},
   "outputs": [
    {
     "data": {
      "text/plain": [
       "Index(['Bias motivation', 'Incidents', 'Offenses', 'Victims1',\n",
       "       'Known\\noffenders2', 'Year'],\n",
       "      dtype='object')"
      ]
     },
     "execution_count": 18,
     "metadata": {},
     "output_type": "execute_result"
    }
   ],
   "source": [
    "FBI_UCR_TABLE1_FINALIZED.columns"
   ]
  },
  {
   "cell_type": "code",
   "execution_count": 19,
   "id": "8f44498c",
   "metadata": {},
   "outputs": [],
   "source": [
    "FBI_UCR_TABLE1_FINALIZED.drop([\"Offenses\",\"Known\\noffenders2\"], axis=1,inplace=True)"
   ]
  },
  {
   "cell_type": "code",
   "execution_count": 20,
   "id": "95edcc05",
   "metadata": {},
   "outputs": [],
   "source": [
    "FBI_UCR_TABLE1_FINALIZED.rename(columns={\"Victims1\":\"Victims\"},inplace=True)"
   ]
  },
  {
   "cell_type": "code",
   "execution_count": 21,
   "id": "5d0a5f92",
   "metadata": {},
   "outputs": [
    {
     "data": {
      "text/html": [
       "<div>\n",
       "<style scoped>\n",
       "    .dataframe tbody tr th:only-of-type {\n",
       "        vertical-align: middle;\n",
       "    }\n",
       "\n",
       "    .dataframe tbody tr th {\n",
       "        vertical-align: top;\n",
       "    }\n",
       "\n",
       "    .dataframe thead th {\n",
       "        text-align: right;\n",
       "    }\n",
       "</style>\n",
       "<table border=\"1\" class=\"dataframe\">\n",
       "  <thead>\n",
       "    <tr style=\"text-align: right;\">\n",
       "      <th></th>\n",
       "      <th>Bias motivation</th>\n",
       "      <th>Incidents</th>\n",
       "      <th>Victims</th>\n",
       "      <th>Year</th>\n",
       "    </tr>\n",
       "  </thead>\n",
       "  <tbody>\n",
       "    <tr>\n",
       "      <th>0</th>\n",
       "      <td>Total</td>\n",
       "      <td>6628</td>\n",
       "      <td>8208</td>\n",
       "      <td>2010</td>\n",
       "    </tr>\n",
       "    <tr>\n",
       "      <th>1</th>\n",
       "      <td>Single-Bias Incidents</td>\n",
       "      <td>6624</td>\n",
       "      <td>8199</td>\n",
       "      <td>2010</td>\n",
       "    </tr>\n",
       "    <tr>\n",
       "      <th>2</th>\n",
       "      <td>Race:</td>\n",
       "      <td>3135</td>\n",
       "      <td>3949</td>\n",
       "      <td>2010</td>\n",
       "    </tr>\n",
       "    <tr>\n",
       "      <th>3</th>\n",
       "      <td>Anti-White</td>\n",
       "      <td>575</td>\n",
       "      <td>697</td>\n",
       "      <td>2010</td>\n",
       "    </tr>\n",
       "    <tr>\n",
       "      <th>4</th>\n",
       "      <td>Anti-Black</td>\n",
       "      <td>2201</td>\n",
       "      <td>2765</td>\n",
       "      <td>2010</td>\n",
       "    </tr>\n",
       "    <tr>\n",
       "      <th>...</th>\n",
       "      <td>...</td>\n",
       "      <td>...</td>\n",
       "      <td>...</td>\n",
       "      <td>...</td>\n",
       "    </tr>\n",
       "    <tr>\n",
       "      <th>37</th>\n",
       "      <td>Anti-Male</td>\n",
       "      <td>17</td>\n",
       "      <td>18</td>\n",
       "      <td>2019</td>\n",
       "    </tr>\n",
       "    <tr>\n",
       "      <th>38</th>\n",
       "      <td>Anti-Female</td>\n",
       "      <td>52</td>\n",
       "      <td>63</td>\n",
       "      <td>2019</td>\n",
       "    </tr>\n",
       "    <tr>\n",
       "      <th>39</th>\n",
       "      <td>Gender Identity:</td>\n",
       "      <td>198</td>\n",
       "      <td>227</td>\n",
       "      <td>2019</td>\n",
       "    </tr>\n",
       "    <tr>\n",
       "      <th>40</th>\n",
       "      <td>Anti-Transgender</td>\n",
       "      <td>151</td>\n",
       "      <td>175</td>\n",
       "      <td>2019</td>\n",
       "    </tr>\n",
       "    <tr>\n",
       "      <th>41</th>\n",
       "      <td>Anti-Gender Non-Conforming</td>\n",
       "      <td>47</td>\n",
       "      <td>52</td>\n",
       "      <td>2019</td>\n",
       "    </tr>\n",
       "  </tbody>\n",
       "</table>\n",
       "<p>364 rows × 4 columns</p>\n",
       "</div>"
      ],
      "text/plain": [
       "               Bias motivation  Incidents  Victims  Year\n",
       "0                        Total       6628     8208  2010\n",
       "1        Single-Bias Incidents       6624     8199  2010\n",
       "2                        Race:       3135     3949  2010\n",
       "3                   Anti-White        575      697  2010\n",
       "4                   Anti-Black       2201     2765  2010\n",
       "..                         ...        ...      ...   ...\n",
       "37                   Anti-Male         17       18  2019\n",
       "38                 Anti-Female         52       63  2019\n",
       "39            Gender Identity:        198      227  2019\n",
       "40            Anti-Transgender        151      175  2019\n",
       "41  Anti-Gender Non-Conforming         47       52  2019\n",
       "\n",
       "[364 rows x 4 columns]"
      ]
     },
     "execution_count": 21,
     "metadata": {},
     "output_type": "execute_result"
    }
   ],
   "source": [
    "FBI_UCR_TABLE1_FINALIZED"
   ]
  },
  {
   "cell_type": "code",
   "execution_count": 22,
   "id": "4bc65d5a",
   "metadata": {},
   "outputs": [],
   "source": [
    "FBI_UCR_TABLE1_FINALIZED['Bias motivation']=FBI_UCR_TABLE1_FINALIZED['Bias motivation'].map(lambda x: x[:-1] if x[-1]==\":\" else x )"
   ]
  },
  {
   "cell_type": "code",
   "execution_count": 23,
   "id": "fc90ce29",
   "metadata": {},
   "outputs": [],
   "source": [
    "FBI_UCR_TABLE1_FINALIZED.to_csv(\"processed_data/FBI-UCR/FBI_UCR_TABLE1.csv\", index=False)"
   ]
  },
  {
   "cell_type": "code",
   "execution_count": 25,
   "id": "527ec410",
   "metadata": {},
   "outputs": [
    {
     "data": {
      "text/plain": [
       "array([2010, 2011, 2012, 2013, 2014, 2015, 2016, 2017, 2018, 2019])"
      ]
     },
     "execution_count": 25,
     "metadata": {},
     "output_type": "execute_result"
    }
   ],
   "source": [
    "FBI_UCR_TABLE1_FINALIZED['Year'].unique()"
   ]
  },
  {
   "cell_type": "code",
   "execution_count": null,
   "id": "978a994e",
   "metadata": {},
   "outputs": [],
   "source": []
  }
 ],
 "metadata": {
  "kernelspec": {
   "display_name": "Python 3",
   "language": "python",
   "name": "python3"
  },
  "language_info": {
   "codemirror_mode": {
    "name": "ipython",
    "version": 3
   },
   "file_extension": ".py",
   "mimetype": "text/x-python",
   "name": "python",
   "nbconvert_exporter": "python",
   "pygments_lexer": "ipython3",
   "version": "3.8.8"
  }
 },
 "nbformat": 4,
 "nbformat_minor": 5
}
